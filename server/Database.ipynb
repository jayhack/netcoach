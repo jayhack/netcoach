{
 "cells": [
  {
   "cell_type": "markdown",
   "metadata": {},
   "source": [
    "# DB\n",
    "deals with storage of objects"
   ]
  },
  {
   "cell_type": "code",
   "execution_count": 1,
   "metadata": {
    "collapsed": false
   },
   "outputs": [],
   "source": [
    "%load_ext autoreload\n",
    "%autoreload 2\n",
    "import sys\n",
    "sys.path.append('./server')\n",
    "from db import DBClient"
   ]
  },
  {
   "cell_type": "markdown",
   "metadata": {},
   "source": [
    "# I. DB Demo"
   ]
  },
  {
   "cell_type": "code",
   "execution_count": 73,
   "metadata": {
    "collapsed": false
   },
   "outputs": [],
   "source": [
    "from datetime import datetime\n",
    "\n",
    "#=====[ Step 1: create and reset db ]=====\n",
    "dbclient = DBClient(data_dir='./data/')\n",
    "dbclient.reset()\n",
    "\n",
    "#=====[ Step 2: create a bunch of series ]=====\n",
    "for exp, series_name in zip([0.8, 0.6, 0.4], ['char_rnn_32', 'char_rnn_64', 'char_rnn_128']):\n",
    "    dbclient.add_series(series_name)\n",
    "    \n",
    "#=====[ Step 3: fill them out ]=====\n",
    "for exp, series_name in zip([0.8, 0.6, 0.4], ['char_rnn_32', 'char_rnn_64', 'char_rnn_128']):\n",
    "    for x in range(100, 0, -1):\n",
    "        dbclient.add_record(series_name, x**exp, datetime.now())\n",
    "        \n",
    "#=====[ Step 4: save records ]=====\n",
    "dbclient.save()"
   ]
  },
  {
   "cell_type": "markdown",
   "metadata": {},
   "source": [
    "# I. Client Demo"
   ]
  },
  {
   "cell_type": "code",
   "execution_count": null,
   "metadata": {
    "collapsed": true
   },
   "outputs": [],
   "source": []
  },
  {
   "cell_type": "code",
   "execution_count": 2,
   "metadata": {
    "collapsed": false
   },
   "outputs": [
    {
     "ename": "ImportError",
     "evalue": "No module named client.client",
     "output_type": "error",
     "traceback": [
      "\u001b[0;31m---------------------------------------------------------------------------\u001b[0m",
      "\u001b[0;31mImportError\u001b[0m                               Traceback (most recent call last)",
      "\u001b[0;32m<ipython-input-2-50af76a9a113>\u001b[0m in \u001b[0;36m<module>\u001b[0;34m()\u001b[0m\n\u001b[0;32m----> 1\u001b[0;31m \u001b[0;32mfrom\u001b[0m \u001b[0mclient\u001b[0m\u001b[0;34m.\u001b[0m\u001b[0mclient\u001b[0m \u001b[0;32mimport\u001b[0m \u001b[0mNetCoachClient\u001b[0m\u001b[0;34m\u001b[0m\u001b[0m\n\u001b[0m",
      "\u001b[0;31mImportError\u001b[0m: No module named client.client"
     ]
    }
   ],
   "source": [
    "from client.client import NetCoachClient"
   ]
  },
  {
   "cell_type": "markdown",
   "metadata": {},
   "source": [
    "# II. Make/Retrieve a Series"
   ]
  },
  {
   "cell_type": "code",
   "execution_count": 38,
   "metadata": {
    "collapsed": true
   },
   "outputs": [],
   "source": [
    "dbclient.clear()\n",
    "\n",
    "s1 = Series(dbclient, 'linear_loss')\n",
    "for i in range(100):\n",
    "    s1.add_record(10 - 0.1*i)\n",
    "\n",
    "s2 = Series(dbclient, 'quadratic_loss')\n",
    "for i in range(100):\n",
    "    s2.add_record(10 - (0.1*i)**2)\n",
    "    \n",
    "#=====[ Checks ]=====\n",
    "assert len(dbclient.get_series_names()) == 2\n",
    "assert len(s1.get_values() == 100)\n",
    "assert len(s2.get_values() == 100)"
   ]
  }
 ],
 "metadata": {
  "kernelspec": {
   "display_name": "Python 2",
   "language": "python",
   "name": "python2"
  },
  "language_info": {
   "codemirror_mode": {
    "name": "ipython",
    "version": 2
   },
   "file_extension": ".py",
   "mimetype": "text/x-python",
   "name": "python",
   "nbconvert_exporter": "python",
   "pygments_lexer": "ipython2",
   "version": "2.7.11"
  }
 },
 "nbformat": 4,
 "nbformat_minor": 0
}
